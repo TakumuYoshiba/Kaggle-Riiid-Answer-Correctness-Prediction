{
 "cells": [
  {
   "cell_type": "code",
   "execution_count": 1,
   "metadata": {
    "execution": {
     "iopub.execute_input": "2020-12-20T07:49:50.809813Z",
     "iopub.status.busy": "2020-12-20T07:49:50.809185Z",
     "iopub.status.idle": "2020-12-20T07:49:51.820264Z",
     "shell.execute_reply": "2020-12-20T07:49:51.818956Z"
    },
    "papermill": {
     "duration": 1.045419,
     "end_time": "2020-12-20T07:49:51.820404",
     "exception": false,
     "start_time": "2020-12-20T07:49:50.774985",
     "status": "completed"
    },
    "tags": []
   },
   "outputs": [
    {
     "data": {
      "text/html": [
       "<style type='text/css'>\n",
       ".datatable table.frame { margin-bottom: 0; }\n",
       ".datatable table.frame thead { border-bottom: none; }\n",
       ".datatable table.frame tr.coltypes td {  color: #FFFFFF;  line-height: 6px;  padding: 0 0.5em;}\n",
       ".datatable .bool    { background: #DDDD99; }\n",
       ".datatable .object  { background: #565656; }\n",
       ".datatable .int     { background: #5D9E5D; }\n",
       ".datatable .float   { background: #4040CC; }\n",
       ".datatable .str     { background: #CC4040; }\n",
       ".datatable .row_index {  background: var(--jp-border-color3);  border-right: 1px solid var(--jp-border-color0);  color: var(--jp-ui-font-color3);  font-size: 9px;}\n",
       ".datatable .frame tr.coltypes .row_index {  background: var(--jp-border-color0);}\n",
       ".datatable th:nth-child(2) { padding-left: 12px; }\n",
       ".datatable .hellipsis {  color: var(--jp-cell-editor-border-color);}\n",
       ".datatable .vellipsis {  background: var(--jp-layout-color0);  color: var(--jp-cell-editor-border-color);}\n",
       ".datatable .na {  color: var(--jp-cell-editor-border-color);  font-size: 80%;}\n",
       ".datatable .footer { font-size: 9px; }\n",
       ".datatable .frame_dimensions {  background: var(--jp-border-color3);  border-top: 1px solid var(--jp-border-color0);  color: var(--jp-ui-font-color3);  display: inline-block;  opacity: 0.6;  padding: 1px 10px 1px 5px;}\n",
       ".datatable .frame thead tr.colnames {  background-image: url('data:image/png;base64,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');  background-repeat: repeat-x;  background-size: 14px;  height: 28px;}\n",
       "</style>\n"
      ],
      "text/plain": [
       "<IPython.core.display.HTML object>"
      ]
     },
     "metadata": {},
     "output_type": "display_data"
    }
   ],
   "source": [
    "import numpy as np\n",
    "import pandas as pd\n",
    "import psutil\n",
    "\n",
    "from collections import defaultdict\n",
    "import datatable as dt\n",
    "import lightgbm as lgb\n",
    "from matplotlib import pyplot as plt\n",
    "import riiideducation\n",
    "import random\n",
    "from sklearn.metrics import roc_auc_score\n",
    "import gc\n",
    "\n",
    "_ = np.seterr(divide='ignore', invalid='ignore')"
   ]
  },
  {
   "cell_type": "code",
   "execution_count": 2,
   "metadata": {
    "execution": {
     "iopub.execute_input": "2020-12-20T07:49:51.890608Z",
     "iopub.status.busy": "2020-12-20T07:49:51.889960Z",
     "iopub.status.idle": "2020-12-20T07:51:43.691066Z",
     "shell.execute_reply": "2020-12-20T07:51:43.690161Z"
    },
    "papermill": {
     "duration": 111.839987,
     "end_time": "2020-12-20T07:51:43.691242",
     "exception": false,
     "start_time": "2020-12-20T07:49:51.851255",
     "status": "completed"
    },
    "tags": []
   },
   "outputs": [],
   "source": [
    "data_types_dict = {\n",
    "    'timestamp': 'int64',\n",
    "    'user_id': 'int32', \n",
    "    'content_id': 'int16', \n",
    "    'content_type_id':'int8', \n",
    "    'task_container_id': 'int16',\n",
    "    #'user_answer': 'int8',\n",
    "    'answered_correctly': 'int8', \n",
    "    'prior_question_elapsed_time': 'float32', \n",
    "    'prior_question_had_explanation': 'bool'\n",
    "}\n",
    "target = 'answered_correctly'\n",
    "\n",
    "train_df = dt.fread('../input/riiid-test-answer-prediction/train.csv', columns=set(data_types_dict.keys())).to_pandas()"
   ]
  },
  {
   "cell_type": "code",
   "execution_count": 3,
   "metadata": {
    "execution": {
     "iopub.execute_input": "2020-12-20T07:51:43.769928Z",
     "iopub.status.busy": "2020-12-20T07:51:43.769266Z",
     "iopub.status.idle": "2020-12-20T07:51:43.781073Z",
     "shell.execute_reply": "2020-12-20T07:51:43.780218Z"
    },
    "papermill": {
     "duration": 0.051678,
     "end_time": "2020-12-20T07:51:43.781197",
     "exception": false,
     "start_time": "2020-12-20T07:51:43.729519",
     "status": "completed"
    },
    "tags": []
   },
   "outputs": [],
   "source": [
    "#reading in lecture df\n",
    "lectures_df = pd.read_csv('/kaggle/input/riiid-test-answer-prediction/lectures.csv')"
   ]
  },
  {
   "cell_type": "code",
   "execution_count": 4,
   "metadata": {
    "execution": {
     "iopub.execute_input": "2020-12-20T07:51:43.845856Z",
     "iopub.status.busy": "2020-12-20T07:51:43.844865Z",
     "iopub.status.idle": "2020-12-20T07:51:43.871983Z",
     "shell.execute_reply": "2020-12-20T07:51:43.870807Z"
    },
    "papermill": {
     "duration": 0.060351,
     "end_time": "2020-12-20T07:51:43.872092",
     "exception": false,
     "start_time": "2020-12-20T07:51:43.811741",
     "status": "completed"
    },
    "tags": []
   },
   "outputs": [],
   "source": [
    "lectures_df['type_of'] = lectures_df['type_of'].replace('solving question', 'solving_question')\n",
    "\n",
    "lectures_df = pd.get_dummies(lectures_df, columns=['part', 'type_of'])\n",
    "\n",
    "part_lectures_columns = [column for column in lectures_df.columns if column.startswith('part')]\n",
    "\n",
    "types_of_lectures_columns = [column for column in lectures_df.columns if column.startswith('type_of_')]"
   ]
  },
  {
   "cell_type": "code",
   "execution_count": 5,
   "metadata": {
    "execution": {
     "iopub.execute_input": "2020-12-20T07:51:43.938239Z",
     "iopub.status.busy": "2020-12-20T07:51:43.937439Z",
     "iopub.status.idle": "2020-12-20T07:51:45.038083Z",
     "shell.execute_reply": "2020-12-20T07:51:45.038640Z"
    },
    "papermill": {
     "duration": 1.136901,
     "end_time": "2020-12-20T07:51:45.038794",
     "exception": false,
     "start_time": "2020-12-20T07:51:43.901893",
     "status": "completed"
    },
    "tags": []
   },
   "outputs": [],
   "source": [
    "train_lectures = train_df[train_df.content_type_id == True].merge(lectures_df, left_on='content_id', right_on='lecture_id', how='left')"
   ]
  },
  {
   "cell_type": "code",
   "execution_count": 6,
   "metadata": {
    "execution": {
     "iopub.execute_input": "2020-12-20T07:51:45.105267Z",
     "iopub.status.busy": "2020-12-20T07:51:45.104307Z",
     "iopub.status.idle": "2020-12-20T07:51:45.548853Z",
     "shell.execute_reply": "2020-12-20T07:51:45.547232Z"
    },
    "papermill": {
     "duration": 0.478057,
     "end_time": "2020-12-20T07:51:45.548990",
     "exception": false,
     "start_time": "2020-12-20T07:51:45.070933",
     "status": "completed"
    },
    "tags": []
   },
   "outputs": [],
   "source": [
    "user_lecture_stats_part = train_lectures.groupby('user_id',as_index = False)[part_lectures_columns + types_of_lectures_columns].sum()"
   ]
  },
  {
   "cell_type": "code",
   "execution_count": 7,
   "metadata": {
    "execution": {
     "iopub.execute_input": "2020-12-20T07:51:45.618372Z",
     "iopub.status.busy": "2020-12-20T07:51:45.617362Z",
     "iopub.status.idle": "2020-12-20T07:51:45.624595Z",
     "shell.execute_reply": "2020-12-20T07:51:45.625077Z"
    },
    "papermill": {
     "duration": 0.045626,
     "end_time": "2020-12-20T07:51:45.625207",
     "exception": false,
     "start_time": "2020-12-20T07:51:45.579581",
     "status": "completed"
    },
    "tags": []
   },
   "outputs": [],
   "source": [
    "lecturedata_types_dict = {   \n",
    "    'user_id': 'int32', \n",
    "    'part_1': 'int8',\n",
    "    'part_2': 'int8',\n",
    "    'part_3': 'int8',\n",
    "    'part_4': 'int8',\n",
    "    'part_5': 'int8',\n",
    "    'part_6': 'int8',\n",
    "    'part_7': 'int8',\n",
    "    'type_of_concept': 'int8',\n",
    "    'type_of_intention': 'int8',\n",
    "    'type_of_solving_question': 'int8',\n",
    "    'type_of_starter': 'int8'\n",
    "}\n",
    "user_lecture_stats_part = user_lecture_stats_part.astype(lecturedata_types_dict)"
   ]
  },
  {
   "cell_type": "code",
   "execution_count": 8,
   "metadata": {
    "execution": {
     "iopub.execute_input": "2020-12-20T07:51:45.693775Z",
     "iopub.status.busy": "2020-12-20T07:51:45.693192Z",
     "iopub.status.idle": "2020-12-20T07:51:45.703778Z",
     "shell.execute_reply": "2020-12-20T07:51:45.703084Z"
    },
    "papermill": {
     "duration": 0.047194,
     "end_time": "2020-12-20T07:51:45.703884",
     "exception": false,
     "start_time": "2020-12-20T07:51:45.656690",
     "status": "completed"
    },
    "tags": []
   },
   "outputs": [],
   "source": [
    "for column in user_lecture_stats_part.columns:\n",
    "    #bool_column = column + '_boolean'\n",
    "    if(column !='user_id'):\n",
    "        user_lecture_stats_part[column] = (user_lecture_stats_part[column] > 0).astype('int8')"
   ]
  },
  {
   "cell_type": "code",
   "execution_count": 9,
   "metadata": {
    "execution": {
     "iopub.execute_input": "2020-12-20T07:51:45.776751Z",
     "iopub.status.busy": "2020-12-20T07:51:45.775958Z",
     "iopub.status.idle": "2020-12-20T07:51:45.778913Z",
     "shell.execute_reply": "2020-12-20T07:51:45.778372Z"
    },
    "papermill": {
     "duration": 0.043543,
     "end_time": "2020-12-20T07:51:45.779028",
     "exception": false,
     "start_time": "2020-12-20T07:51:45.735485",
     "status": "completed"
    },
    "tags": []
   },
   "outputs": [],
   "source": [
    "del(train_lectures)"
   ]
  },
  {
   "cell_type": "code",
   "execution_count": 10,
   "metadata": {
    "execution": {
     "iopub.execute_input": "2020-12-20T07:51:45.849433Z",
     "iopub.status.busy": "2020-12-20T07:51:45.848802Z",
     "iopub.status.idle": "2020-12-20T07:52:00.884529Z",
     "shell.execute_reply": "2020-12-20T07:52:00.883990Z"
    },
    "papermill": {
     "duration": 15.074048,
     "end_time": "2020-12-20T07:52:00.884645",
     "exception": false,
     "start_time": "2020-12-20T07:51:45.810597",
     "status": "completed"
    },
    "tags": []
   },
   "outputs": [],
   "source": [
    "cum = train_df.groupby('user_id')['content_type_id'].agg(['cumsum', 'cumcount'])\n",
    "train_df['user_lecture_cumsum'] = cum['cumsum'] \n",
    "train_df['user_lecture_lv'] = cum['cumsum'] / cum['cumcount']\n",
    "\n",
    "\n",
    "train_df.user_lecture_lv=train_df.user_lecture_lv.astype('float16')\n",
    "train_df.user_lecture_cumsum=train_df.user_lecture_cumsum.astype('int8')\n",
    "user_lecture_agg = train_df.groupby('user_id')['content_type_id'].agg(['sum', 'count'])"
   ]
  },
  {
   "cell_type": "code",
   "execution_count": 11,
   "metadata": {
    "execution": {
     "iopub.execute_input": "2020-12-20T07:52:11.749662Z",
     "iopub.status.busy": "2020-12-20T07:52:11.748909Z",
     "iopub.status.idle": "2020-12-20T07:52:27.577860Z",
     "shell.execute_reply": "2020-12-20T07:52:27.578380Z"
    },
    "papermill": {
     "duration": 26.662471,
     "end_time": "2020-12-20T07:52:27.578559",
     "exception": false,
     "start_time": "2020-12-20T07:52:00.916088",
     "status": "completed"
    },
    "tags": []
   },
   "outputs": [],
   "source": [
    "train_df['prior_question_had_explanation'].fillna(False, inplace=True)\n",
    "train_df = train_df.astype(data_types_dict)\n",
    "train_df = train_df[train_df[target] != -1].reset_index(drop=True)#−１（lecture）をdropする\n",
    "prior_question_elapsed_time_mean=train_df['prior_question_elapsed_time'].mean()\n",
    "train_df['prior_question_elapsed_time'].fillna(prior_question_elapsed_time_mean, inplace=True)#平均値で埋める,inplace=Trueで元データに反映\n"
   ]
  },
  {
   "cell_type": "code",
   "execution_count": 12,
   "metadata": {
    "execution": {
     "iopub.execute_input": "2020-12-20T07:52:27.646575Z",
     "iopub.status.busy": "2020-12-20T07:52:27.645600Z",
     "iopub.status.idle": "2020-12-20T07:52:31.035483Z",
     "shell.execute_reply": "2020-12-20T07:52:31.034585Z"
    },
    "papermill": {
     "duration": 3.42565,
     "end_time": "2020-12-20T07:52:31.035626",
     "exception": false,
     "start_time": "2020-12-20T07:52:27.609976",
     "status": "completed"
    },
    "tags": []
   },
   "outputs": [],
   "source": [
    "max_timestamp_u = train_df[['user_id','timestamp']].groupby(['user_id']).agg(['max']).reset_index()\n",
    "#max_timestamp_u = train_df[['user_id','timestamp']].groupby(['user_id']).agg(['max'])\n",
    "max_timestamp_u.columns = ['user_id', 'max_time_stamp']"
   ]
  },
  {
   "cell_type": "code",
   "execution_count": 13,
   "metadata": {
    "execution": {
     "iopub.execute_input": "2020-12-20T07:52:31.106446Z",
     "iopub.status.busy": "2020-12-20T07:52:31.105808Z",
     "iopub.status.idle": "2020-12-20T07:52:36.355847Z",
     "shell.execute_reply": "2020-12-20T07:52:36.356539Z"
    },
    "papermill": {
     "duration": 5.289389,
     "end_time": "2020-12-20T07:52:36.356680",
     "exception": false,
     "start_time": "2020-12-20T07:52:31.067291",
     "status": "completed"
    },
    "tags": []
   },
   "outputs": [],
   "source": [
    "train_df['lagtime'] = train_df.groupby('user_id')['timestamp'].shift()#user_idごとにラグタイムを計算\n",
    "train_df['lagtime']=train_df['timestamp']-train_df['lagtime']\n",
    "train_df['lagtime'].fillna(0, inplace=True)\n",
    "train_df.lagtime=train_df.lagtime.astype('int32')\n",
    "#train_df.drop(columns=['timestamp'], inplace=True)"
   ]
  },
  {
   "cell_type": "code",
   "execution_count": 14,
   "metadata": {
    "execution": {
     "iopub.execute_input": "2020-12-20T07:52:36.428450Z",
     "iopub.status.busy": "2020-12-20T07:52:36.427710Z",
     "iopub.status.idle": "2020-12-20T07:52:40.997871Z",
     "shell.execute_reply": "2020-12-20T07:52:40.998351Z"
    },
    "papermill": {
     "duration": 4.609033,
     "end_time": "2020-12-20T07:52:40.998500",
     "exception": false,
     "start_time": "2020-12-20T07:52:36.389467",
     "status": "completed"
    },
    "tags": []
   },
   "outputs": [],
   "source": [
    "lagtime_agg = train_df.groupby('user_id')['lagtime'].agg(['mean'])\n",
    "train_df['lagtime_mean'] = train_df['user_id'].map(lagtime_agg['mean'])#各user_idに対して、ラグタイムの平均値を入れる\n",
    "train_df.lagtime_mean=train_df.lagtime_mean.astype('int32')"
   ]
  },
  {
   "cell_type": "code",
   "execution_count": 15,
   "metadata": {
    "execution": {
     "iopub.execute_input": "2020-12-20T07:52:41.072194Z",
     "iopub.status.busy": "2020-12-20T07:52:41.071160Z",
     "iopub.status.idle": "2020-12-20T07:52:48.465450Z",
     "shell.execute_reply": "2020-12-20T07:52:48.465990Z"
    },
    "papermill": {
     "duration": 7.434894,
     "end_time": "2020-12-20T07:52:48.466145",
     "exception": false,
     "start_time": "2020-12-20T07:52:41.031251",
     "status": "completed"
    },
    "tags": []
   },
   "outputs": [],
   "source": [
    "user_prior_question_elapsed_time = train_df[['user_id','prior_question_elapsed_time']].groupby(['user_id']).tail(1)\n",
    "#max_timestamp_u = train_df[['user_id','timestamp']].groupby(['user_id']).agg(['max'])\n",
    "user_prior_question_elapsed_time.columns = ['user_id', 'prior_question_elapsed_time']"
   ]
  },
  {
   "cell_type": "code",
   "execution_count": 16,
   "metadata": {
    "execution": {
     "iopub.execute_input": "2020-12-20T07:52:48.534018Z",
     "iopub.status.busy": "2020-12-20T07:52:48.533372Z",
     "iopub.status.idle": "2020-12-20T07:52:52.943143Z",
     "shell.execute_reply": "2020-12-20T07:52:52.942540Z"
    },
    "papermill": {
     "duration": 4.444189,
     "end_time": "2020-12-20T07:52:52.943242",
     "exception": false,
     "start_time": "2020-12-20T07:52:48.499053",
     "status": "completed"
    },
    "tags": []
   },
   "outputs": [],
   "source": [
    "train_df['delta_prior_question_elapsed_time'] = train_df.groupby('user_id')['prior_question_elapsed_time'].shift()\n",
    "train_df['delta_prior_question_elapsed_time']=train_df['prior_question_elapsed_time']-train_df['delta_prior_question_elapsed_time']\n",
    "train_df['delta_prior_question_elapsed_time'].fillna(0, inplace=True)\n",
    "train_df.delta_prior_question_elapsed_time=train_df.delta_prior_question_elapsed_time.astype('int32')"
   ]
  },
  {
   "cell_type": "code",
   "execution_count": 17,
   "metadata": {
    "execution": {
     "iopub.execute_input": "2020-12-20T07:52:53.029011Z",
     "iopub.status.busy": "2020-12-20T07:52:53.027862Z",
     "iopub.status.idle": "2020-12-20T07:52:53.833642Z",
     "shell.execute_reply": "2020-12-20T07:52:53.833127Z"
    },
    "papermill": {
     "duration": 0.858923,
     "end_time": "2020-12-20T07:52:53.833757",
     "exception": false,
     "start_time": "2020-12-20T07:52:52.974834",
     "status": "completed"
    },
    "tags": []
   },
   "outputs": [],
   "source": [
    "train_df['timestamp']=train_df['timestamp']/(1000*3600)\n",
    "train_df.timestamp=train_df.timestamp.astype('int16')"
   ]
  },
  {
   "cell_type": "code",
   "execution_count": 18,
   "metadata": {
    "execution": {
     "iopub.execute_input": "2020-12-20T07:52:53.907686Z",
     "iopub.status.busy": "2020-12-20T07:52:53.906271Z",
     "iopub.status.idle": "2020-12-20T07:53:17.904600Z",
     "shell.execute_reply": "2020-12-20T07:53:17.904006Z"
    },
    "papermill": {
     "duration": 24.039359,
     "end_time": "2020-12-20T07:53:17.904769",
     "exception": false,
     "start_time": "2020-12-20T07:52:53.865410",
     "status": "completed"
    },
    "tags": []
   },
   "outputs": [],
   "source": [
    "train_df['lag'] = train_df.groupby('user_id')[target].shift()\n",
    "\n",
    "cum = train_df.groupby('user_id')['lag'].agg(['cumsum', 'cumcount'])\n",
    "train_df['user_correctness'] = cum['cumsum'] / cum['cumcount']\n",
    "train_df['user_correct_cumsum'] = cum['cumsum']\n",
    "train_df['user_correct_cumcount'] = cum['cumcount']\n",
    "train_df.drop(columns=['lag'], inplace=True)\n",
    "\n",
    "# train_df['user_correctness'].fillna(1, inplace=True)\n",
    "train_df['user_correct_cumsum'].fillna(0, inplace=True)\n",
    "#train_df['user_correct_cumcount'].fillna(0, inplace=True)\n",
    "train_df.user_correctness=train_df.user_correctness.astype('float16')\n",
    "train_df.user_correct_cumcount=train_df.user_correct_cumcount.astype('int16')\n",
    "train_df.user_correct_cumsum=train_df.user_correct_cumsum.astype('int16')"
   ]
  },
  {
   "cell_type": "code",
   "execution_count": 19,
   "metadata": {
    "execution": {
     "iopub.execute_input": "2020-12-20T07:53:17.977586Z",
     "iopub.status.busy": "2020-12-20T07:53:17.976589Z",
     "iopub.status.idle": "2020-12-20T07:53:21.966977Z",
     "shell.execute_reply": "2020-12-20T07:53:21.966386Z"
    },
    "papermill": {
     "duration": 4.028946,
     "end_time": "2020-12-20T07:53:21.967098",
     "exception": false,
     "start_time": "2020-12-20T07:53:17.938152",
     "status": "completed"
    },
    "tags": []
   },
   "outputs": [],
   "source": [
    "train_df.prior_question_had_explanation=train_df.prior_question_had_explanation.astype('int8')\n",
    "train_df['lag'] = train_df.groupby('user_id')['prior_question_had_explanation'].shift()"
   ]
  },
  {
   "cell_type": "code",
   "execution_count": 20,
   "metadata": {
    "execution": {
     "iopub.execute_input": "2020-12-20T07:53:22.042980Z",
     "iopub.status.busy": "2020-12-20T07:53:22.041748Z",
     "iopub.status.idle": "2020-12-20T07:53:37.921631Z",
     "shell.execute_reply": "2020-12-20T07:53:37.920856Z"
    },
    "papermill": {
     "duration": 15.921583,
     "end_time": "2020-12-20T07:53:37.921771",
     "exception": false,
     "start_time": "2020-12-20T07:53:22.000188",
     "status": "completed"
    },
    "tags": []
   },
   "outputs": [],
   "source": [
    "cum = train_df.groupby('user_id')['lag'].agg(['cumsum', 'cumcount'])\n",
    "train_df['explanation_mean'] = cum['cumsum'] / cum['cumcount']\n",
    "train_df['explanation_cumsum'] = cum['cumsum'] \n",
    "train_df.drop(columns=['lag'], inplace=True)\n",
    "\n",
    "train_df['explanation_mean'].fillna(0, inplace=True)\n",
    "train_df['explanation_cumsum'].fillna(0, inplace=True)\n",
    "train_df.explanation_mean=train_df.explanation_mean.astype('float16')\n",
    "train_df.explanation_cumsum=train_df.explanation_cumsum.astype('int16')"
   ]
  },
  {
   "cell_type": "code",
   "execution_count": 21,
   "metadata": {
    "execution": {
     "iopub.execute_input": "2020-12-20T07:53:38.080147Z",
     "iopub.status.busy": "2020-12-20T07:53:38.079236Z",
     "iopub.status.idle": "2020-12-20T07:53:38.083380Z",
     "shell.execute_reply": "2020-12-20T07:53:38.082852Z"
    },
    "papermill": {
     "duration": 0.128751,
     "end_time": "2020-12-20T07:53:38.083482",
     "exception": false,
     "start_time": "2020-12-20T07:53:37.954731",
     "status": "completed"
    },
    "tags": []
   },
   "outputs": [
    {
     "data": {
      "text/plain": [
       "126"
      ]
     },
     "execution_count": 21,
     "metadata": {},
     "output_type": "execute_result"
    }
   ],
   "source": [
    "del cum\n",
    "gc.collect()"
   ]
  },
  {
   "cell_type": "code",
   "execution_count": 22,
   "metadata": {
    "execution": {
     "iopub.execute_input": "2020-12-20T07:53:38.157245Z",
     "iopub.status.busy": "2020-12-20T07:53:38.155830Z",
     "iopub.status.idle": "2020-12-20T07:54:26.775514Z",
     "shell.execute_reply": "2020-12-20T07:54:26.776064Z"
    },
    "papermill": {
     "duration": 48.65932,
     "end_time": "2020-12-20T07:54:26.776207",
     "exception": false,
     "start_time": "2020-12-20T07:53:38.116887",
     "status": "completed"
    },
    "tags": []
   },
   "outputs": [],
   "source": [
    "train_df[\"attempt_no\"] = 1\n",
    "train_df.attempt_no=train_df.attempt_no.astype('int8')\n",
    "train_df[\"attempt_no\"] = train_df[[\"user_id\",\"content_id\",'attempt_no']].groupby([\"user_id\",\"content_id\"])[\"attempt_no\"].cumsum()"
   ]
  },
  {
   "cell_type": "code",
   "execution_count": 23,
   "metadata": {
    "execution": {
     "iopub.execute_input": "2020-12-20T07:54:26.847087Z",
     "iopub.status.busy": "2020-12-20T07:54:26.846357Z",
     "iopub.status.idle": "2020-12-20T07:55:46.875269Z",
     "shell.execute_reply": "2020-12-20T07:55:46.874551Z"
    },
    "papermill": {
     "duration": 80.065613,
     "end_time": "2020-12-20T07:55:46.875411",
     "exception": false,
     "start_time": "2020-12-20T07:54:26.809798",
     "status": "completed"
    },
    "tags": []
   },
   "outputs": [],
   "source": [
    "explanation_agg = train_df.groupby('user_id')['prior_question_had_explanation'].agg(['sum', 'count'])\n",
    "#train_df.drop(columns=['prior_question_had_explanation'], inplace=True)\n",
    "\n",
    "user_agg = train_df.groupby('user_id')[target].agg(['sum', 'count'])\n",
    "content_agg = train_df.groupby('content_id')[target].agg(['sum', 'count','var'])\n",
    "task_container_agg = train_df.groupby('task_container_id')[target].agg(['sum', 'count','var'])\n",
    "#prior_question_elapsed_time_agg = train_df.groupby('user_id')['prior_question_elapsed_time'].agg(['sum', 'count'])\n",
    "\n",
    "attempt_no_agg=train_df.groupby([\"user_id\",\"content_id\"])[\"attempt_no\"].agg(['sum'])\n",
    "#attempt_series = train_df[['user_id', 'content_id','attempt_no']].groupby(['user_id','content_id'])['attempt_no'].max()\n",
    "\n",
    "explanation_agg=explanation_agg.astype('int16')\n",
    "user_agg=user_agg.astype('int16')\n",
    "content_agg=content_agg.astype('float32')\n",
    "task_container_agg=task_container_agg.astype('float32')\n",
    "attempt_no_agg=attempt_no_agg.astype('int8')"
   ]
  },
  {
   "cell_type": "code",
   "execution_count": 24,
   "metadata": {
    "execution": {
     "iopub.execute_input": "2020-12-20T07:55:46.954602Z",
     "iopub.status.busy": "2020-12-20T07:55:46.953955Z",
     "iopub.status.idle": "2020-12-20T07:55:55.882405Z",
     "shell.execute_reply": "2020-12-20T07:55:55.881688Z"
    },
    "papermill": {
     "duration": 8.971662,
     "end_time": "2020-12-20T07:55:55.882519",
     "exception": false,
     "start_time": "2020-12-20T07:55:46.910857",
     "status": "completed"
    },
    "tags": []
   },
   "outputs": [],
   "source": [
    "train_df['content_count'] = train_df['content_id'].map(content_agg['count']).astype('int32')\n",
    "train_df['content_sum'] = train_df['content_id'].map(content_agg['sum']).astype('int32')\n",
    "train_df['content_correctness'] = train_df['content_id'].map(content_agg['sum'] / content_agg['count'])\n",
    "train_df.content_correctness=train_df.content_correctness.astype('float16')\n",
    "train_df['task_container_sum'] = train_df['task_container_id'].map(task_container_agg['sum']).astype('int32')\n",
    "train_df['task_container_std'] = train_df['task_container_id'].map(task_container_agg['var']).astype('float16')\n",
    "train_df['task_container_correctness'] = train_df['task_container_id'].map(task_container_agg['sum'] / task_container_agg['count'])\n",
    "train_df.task_container_correctness=train_df.task_container_correctness.astype('float16')"
   ]
  },
  {
   "cell_type": "code",
   "execution_count": 25,
   "metadata": {
    "execution": {
     "iopub.execute_input": "2020-12-20T07:55:55.970197Z",
     "iopub.status.busy": "2020-12-20T07:55:55.969555Z",
     "iopub.status.idle": "2020-12-20T07:55:56.050388Z",
     "shell.execute_reply": "2020-12-20T07:55:56.049822Z"
    },
    "papermill": {
     "duration": 0.133182,
     "end_time": "2020-12-20T07:55:56.050496",
     "exception": false,
     "start_time": "2020-12-20T07:55:55.917314",
     "status": "completed"
    },
    "tags": []
   },
   "outputs": [],
   "source": [
    "questions_df = pd.read_csv(\n",
    "    '../input/riiid-test-answer-prediction/questions.csv', \n",
    "    usecols=[0, 1,3,4],\n",
    "    dtype={'question_id': 'int16','bundle_id': 'int16', 'part': 'int8','tags': 'str'}\n",
    ")\n",
    "questions_df['part_bundle_id']=questions_df['part']*100000+questions_df['bundle_id']\n",
    "questions_df.part_bundle_id=questions_df.part_bundle_id.astype('int32')\n",
    "tag = questions_df[\"tags\"].str.split(\" \", n = 10, expand = True)\n",
    "tag.columns = ['tags1','tags2','tags3','tags4','tags5','tags6']\n",
    "#\n",
    "\n",
    "tag.fillna(0, inplace=True)\n",
    "tag = tag.astype('int16')\n",
    "questions_df =  pd.concat([questions_df,tag],axis=1).drop(['tags'],axis=1)"
   ]
  },
  {
   "cell_type": "code",
   "execution_count": 26,
   "metadata": {
    "execution": {
     "iopub.execute_input": "2020-12-20T07:55:56.123999Z",
     "iopub.status.busy": "2020-12-20T07:55:56.123322Z",
     "iopub.status.idle": "2020-12-20T07:55:56.125379Z",
     "shell.execute_reply": "2020-12-20T07:55:56.125809Z"
    },
    "papermill": {
     "duration": 0.042028,
     "end_time": "2020-12-20T07:55:56.125968",
     "exception": false,
     "start_time": "2020-12-20T07:55:56.083940",
     "status": "completed"
    },
    "tags": []
   },
   "outputs": [],
   "source": [
    "questions_df.rename(columns={'question_id':'content_id'}, inplace=True)"
   ]
  },
  {
   "cell_type": "code",
   "execution_count": 27,
   "metadata": {
    "execution": {
     "iopub.execute_input": "2020-12-20T07:55:56.196571Z",
     "iopub.status.busy": "2020-12-20T07:55:56.195963Z",
     "iopub.status.idle": "2020-12-20T07:55:56.206178Z",
     "shell.execute_reply": "2020-12-20T07:55:56.205656Z"
    },
    "papermill": {
     "duration": 0.045813,
     "end_time": "2020-12-20T07:55:56.206275",
     "exception": false,
     "start_time": "2020-12-20T07:55:56.160462",
     "status": "completed"
    },
    "tags": []
   },
   "outputs": [],
   "source": [
    "questions_df['content_correctness'] = questions_df['content_id'].map(content_agg['sum'] / content_agg['count'])\n",
    "questions_df.content_correctness=questions_df.content_correctness.astype('float16')\n",
    "questions_df['content_correctness_std'] = questions_df['content_id'].map(content_agg['var'])\n",
    "questions_df.content_correctness_std=questions_df.content_correctness_std.astype('float16')"
   ]
  },
  {
   "cell_type": "code",
   "execution_count": 28,
   "metadata": {
    "execution": {
     "iopub.execute_input": "2020-12-20T07:55:56.276713Z",
     "iopub.status.busy": "2020-12-20T07:55:56.276113Z",
     "iopub.status.idle": "2020-12-20T07:55:56.287648Z",
     "shell.execute_reply": "2020-12-20T07:55:56.288114Z"
    },
    "papermill": {
     "duration": 0.048367,
     "end_time": "2020-12-20T07:55:56.288247",
     "exception": false,
     "start_time": "2020-12-20T07:55:56.239880",
     "status": "completed"
    },
    "tags": []
   },
   "outputs": [],
   "source": [
    "part_agg = questions_df.groupby('part')['content_correctness'].agg(['mean', 'var'])\n",
    "questions_df['part_correctness_mean'] = questions_df['part'].map(part_agg['mean'])\n",
    "questions_df['part_correctness_std'] = questions_df['part'].map(part_agg['var'])\n",
    "questions_df.part_correctness_mean=questions_df.part_correctness_mean.astype('float16')\n",
    "questions_df.part_correctness_std=questions_df.part_correctness_std.astype('float16')"
   ]
  },
  {
   "cell_type": "code",
   "execution_count": 29,
   "metadata": {
    "execution": {
     "iopub.execute_input": "2020-12-20T07:55:56.359507Z",
     "iopub.status.busy": "2020-12-20T07:55:56.358891Z",
     "iopub.status.idle": "2020-12-20T07:55:56.371717Z",
     "shell.execute_reply": "2020-12-20T07:55:56.372258Z"
    },
    "papermill": {
     "duration": 0.050583,
     "end_time": "2020-12-20T07:55:56.372427",
     "exception": false,
     "start_time": "2020-12-20T07:55:56.321844",
     "status": "completed"
    },
    "tags": []
   },
   "outputs": [],
   "source": [
    "bundle_agg = questions_df.groupby('bundle_id')['content_correctness'].agg(['mean'])\n",
    "questions_df['bundle_correctness'] = questions_df['bundle_id'].map(bundle_agg['mean'])\n",
    "questions_df.bundle_correctness=questions_df.bundle_correctness.astype('float16')"
   ]
  },
  {
   "cell_type": "code",
   "execution_count": 30,
   "metadata": {
    "execution": {
     "iopub.execute_input": "2020-12-20T07:55:56.447218Z",
     "iopub.status.busy": "2020-12-20T07:55:56.446596Z",
     "iopub.status.idle": "2020-12-20T07:55:56.454846Z",
     "shell.execute_reply": "2020-12-20T07:55:56.454349Z"
    },
    "papermill": {
     "duration": 0.049513,
     "end_time": "2020-12-20T07:55:56.454952",
     "exception": false,
     "start_time": "2020-12-20T07:55:56.405439",
     "status": "completed"
    },
    "tags": []
   },
   "outputs": [],
   "source": [
    "tags1_agg = questions_df.groupby('tags1')['content_correctness'].agg(['mean', 'var'])\n",
    "questions_df['tags1_correctness_mean'] = questions_df['tags1'].map(tags1_agg['mean'])\n",
    "questions_df['tags1_correctness_std'] = questions_df['tags1'].map(tags1_agg['var'])\n",
    "questions_df.tags1_correctness_mean=questions_df.tags1_correctness_mean.astype('float16')\n",
    "questions_df.tags1_correctness_std=questions_df.tags1_correctness_std.astype('float16')"
   ]
  },
  {
   "cell_type": "code",
   "execution_count": 31,
   "metadata": {
    "execution": {
     "iopub.execute_input": "2020-12-20T07:55:56.529972Z",
     "iopub.status.busy": "2020-12-20T07:55:56.528265Z",
     "iopub.status.idle": "2020-12-20T07:55:56.532988Z",
     "shell.execute_reply": "2020-12-20T07:55:56.532395Z"
    },
    "papermill": {
     "duration": 0.044584,
     "end_time": "2020-12-20T07:55:56.533091",
     "exception": false,
     "start_time": "2020-12-20T07:55:56.488507",
     "status": "completed"
    },
    "tags": []
   },
   "outputs": [],
   "source": [
    "questions_df.drop(columns=['content_correctness'], inplace=True)"
   ]
  },
  {
   "cell_type": "code",
   "execution_count": 32,
   "metadata": {
    "execution": {
     "iopub.execute_input": "2020-12-20T07:55:56.605780Z",
     "iopub.status.busy": "2020-12-20T07:55:56.605126Z",
     "iopub.status.idle": "2020-12-20T07:55:56.686571Z",
     "shell.execute_reply": "2020-12-20T07:55:56.687066Z"
    },
    "papermill": {
     "duration": 0.119416,
     "end_time": "2020-12-20T07:55:56.687203",
     "exception": false,
     "start_time": "2020-12-20T07:55:56.567787",
     "status": "completed"
    },
    "tags": []
   },
   "outputs": [
    {
     "data": {
      "text/plain": [
       "152"
      ]
     },
     "execution_count": 32,
     "metadata": {},
     "output_type": "execute_result"
    }
   ],
   "source": [
    "del bundle_agg\n",
    "del part_agg\n",
    "del tags1_agg\n",
    "gc.collect()"
   ]
  },
  {
   "cell_type": "code",
   "execution_count": 33,
   "metadata": {
    "execution": {
     "iopub.execute_input": "2020-12-20T07:55:56.765029Z",
     "iopub.status.busy": "2020-12-20T07:55:56.764330Z",
     "iopub.status.idle": "2020-12-20T07:56:02.584015Z",
     "shell.execute_reply": "2020-12-20T07:56:02.583389Z"
    },
    "papermill": {
     "duration": 5.861213,
     "end_time": "2020-12-20T07:56:02.584123",
     "exception": false,
     "start_time": "2020-12-20T07:55:56.722910",
     "status": "completed"
    },
    "tags": []
   },
   "outputs": [],
   "source": [
    "train_df['user_correctness'].fillna( 1, inplace=True)\n",
    "train_df['attempt_no'].fillna(1, inplace=True)\n",
    "#\n",
    "train_df.fillna(0, inplace=True)"
   ]
  },
  {
   "cell_type": "markdown",
   "metadata": {
    "papermill": {
     "duration": 0.035754,
     "end_time": "2020-12-20T07:56:02.656908",
     "exception": false,
     "start_time": "2020-12-20T07:56:02.621154",
     "status": "completed"
    },
    "tags": []
   },
   "source": [
    "# train"
   ]
  },
  {
   "cell_type": "code",
   "execution_count": 34,
   "metadata": {
    "execution": {
     "iopub.execute_input": "2020-12-20T07:56:02.740497Z",
     "iopub.status.busy": "2020-12-20T07:56:02.739473Z",
     "iopub.status.idle": "2020-12-20T07:56:02.742979Z",
     "shell.execute_reply": "2020-12-20T07:56:02.742444Z"
    },
    "papermill": {
     "duration": 0.050059,
     "end_time": "2020-12-20T07:56:02.743086",
     "exception": false,
     "start_time": "2020-12-20T07:56:02.693027",
     "status": "completed"
    },
    "tags": []
   },
   "outputs": [],
   "source": [
    "features = [\n",
    "#   'user_id',\n",
    "#HDKIM    'timestamp',\n",
    "    'lagtime',\n",
    "    'lagtime_mean',\n",
    "   # 'content_id',\n",
    "   # 'task_container_id',\n",
    "    'user_lecture_cumsum', # X\n",
    "    'user_lecture_lv',\n",
    "    'prior_question_elapsed_time',\n",
    "    'delta_prior_question_elapsed_time',\n",
    "    'user_correctness',\n",
    "    'user_correct_cumcount', #X\n",
    "    'user_correct_cumsum', #X\n",
    "    'content_correctness',\n",
    "   # 'content_correctness_std',\n",
    "    'content_count',\n",
    "    'content_sum', #X\n",
    "    'task_container_correctness',\n",
    "   # 'task_container_std',\n",
    "   # 'task_container_sum',\n",
    "    'bundle_correctness',\n",
    "    'attempt_no',\n",
    "    'part',\n",
    "    'part_correctness_mean',\n",
    "   # 'part_correctness_std',\n",
    "    'tags1',\n",
    "    'tags1_correctness_mean',\n",
    "  #  'tags1_correctness_std',\n",
    "#HDKIM    'tags2',\n",
    "#HDKIM    'tags3',\n",
    "#HDKIM    'tags4',\n",
    "#HDKIM    'tags5',\n",
    "#HDKIM    'tags6',\n",
    "    'bundle_id',\n",
    "  #  'part_bundle_id',\n",
    "    'explanation_mean', \n",
    "    'explanation_cumsum',\n",
    "    'prior_question_had_explanation',\n",
    "#     'part_1',\n",
    "#     'part_2',\n",
    "#     'part_3',\n",
    "#     'part_4',\n",
    "#     'part_5',\n",
    "#     'part_6',\n",
    "#     'part_7',\n",
    "#     'type_of_concept',\n",
    "#     'type_of_intention',\n",
    "#     'type_of_solving_question',\n",
    "#     'type_of_starter'\n",
    "]\n",
    "categorical_columns= [\n",
    "#   'user_id',\n",
    "  #  'content_id',\n",
    "  # 'task_container_id',\n",
    "    'part',        \n",
    "    'tags1',\n",
    "#HDKIM    'tags2',\n",
    "#HDKIM    'tags3',\n",
    "#HDKIM    'tags4',\n",
    "#HDKIM    'tags5',\n",
    "#HDKIM    'tags6',\n",
    "    'bundle_id',\n",
    "   # 'part_bundle_id',\n",
    "    'prior_question_had_explanation',\n",
    "#     'part_1',\n",
    "#     'part_2',\n",
    "#     'part_3',\n",
    "#     'part_4',\n",
    "#     'part_5',\n",
    "#     'part_6',\n",
    "#     'part_7',\n",
    "#     'type_of_concept',\n",
    "#     'type_of_intention',\n",
    "#     'type_of_solving_question',\n",
    "#     'type_of_starter'\n",
    "]"
   ]
  },
  {
   "cell_type": "code",
   "execution_count": 35,
   "metadata": {
    "execution": {
     "iopub.execute_input": "2020-12-20T07:56:02.831940Z",
     "iopub.status.busy": "2020-12-20T07:56:02.830790Z",
     "iopub.status.idle": "2020-12-20T07:56:25.196085Z",
     "shell.execute_reply": "2020-12-20T07:56:25.196846Z"
    },
    "papermill": {
     "duration": 22.417195,
     "end_time": "2020-12-20T07:56:25.196983",
     "exception": false,
     "start_time": "2020-12-20T07:56:02.779788",
     "status": "completed"
    },
    "tags": []
   },
   "outputs": [
    {
     "name": "stdout",
     "output_type": "stream",
     "text": [
      "sample end\n",
      "valid_df length： 1136056\n"
     ]
    }
   ],
   "source": [
    "flag_lgbm=True\n",
    "clfs = list()\n",
    "\n",
    "trains=list()\n",
    "valids=list()\n",
    "num=1\n",
    "for i in range(0,num):\n",
    "  \n",
    "    #train_df=train_df.reset_index(drop=True)\n",
    "    train_df_clf=train_df.sample(n=10000*1000)\n",
    "    print('sample end')\n",
    "    #train_df.drop(train_df_clf.index, inplace=True)\n",
    "    #print('train_df drop end')\n",
    "    \n",
    "   \n",
    "    del train_df\n",
    "    \n",
    "    users=train_df_clf['user_id'].drop_duplicates()#去重\n",
    "    \n",
    "    users=users.sample(frac=0.025)\n",
    "    users_df=pd.DataFrame()\n",
    "    users_df['user_id']=users.values\n",
    "  \n",
    "  \n",
    "    valid_df_newuser = pd.merge(train_df_clf, users_df, on=['user_id'], how='inner',right_index=True)\n",
    "    del users_df\n",
    "    del users\n",
    "    gc.collect()\n",
    "    #\n",
    "    train_df_clf.drop(valid_df_newuser.index, inplace=True)\n",
    "   \n",
    "    #-----------\n",
    "    #train_df_clf=train_df_clf.sample(frac=0.2)\n",
    "    #train_df_clf.drop(valid_df_newuser.index, inplace=True)\n",
    "    train_df_clf = pd.merge(train_df_clf, questions_df, on='content_id', how='left',right_index=True)#\n",
    "    valid_df_newuser = pd.merge(valid_df_newuser, questions_df, on='content_id', how='left',right_index=True)#\n",
    "    \n",
    "#     train_df_clf = pd.merge(train_df_clf, user_lecture_stats_part, on='user_id', how=\"left\",right_index=True)\n",
    "#     valid_df_newuser = pd.merge(valid_df_newuser, user_lecture_stats_part, on='user_id', how=\"left\",right_index=True)\n",
    "\n",
    "    valid_df=train_df_clf.sample(frac=0.09)\n",
    "    train_df_clf.drop(valid_df.index, inplace=True)\n",
    "   \n",
    "    valid_df = valid_df.append(valid_df_newuser)\n",
    "    del valid_df_newuser\n",
    "    gc.collect()\n",
    "    #\n",
    "\n",
    "    trains.append(train_df_clf)\n",
    "    valids.append(valid_df)\n",
    "    print('valid_df length：',len(valid_df))\n",
    "    #train_df=train_df.reset_index(drop=True)"
   ]
  },
  {
   "cell_type": "code",
   "execution_count": 36,
   "metadata": {
    "execution": {
     "iopub.execute_input": "2020-12-20T07:56:25.347040Z",
     "iopub.status.busy": "2020-12-20T07:56:25.346297Z",
     "iopub.status.idle": "2020-12-20T07:56:25.350202Z",
     "shell.execute_reply": "2020-12-20T07:56:25.349690Z"
    },
    "papermill": {
     "duration": 0.116652,
     "end_time": "2020-12-20T07:56:25.350304",
     "exception": false,
     "start_time": "2020-12-20T07:56:25.233652",
     "status": "completed"
    },
    "tags": []
   },
   "outputs": [
    {
     "data": {
      "text/plain": [
       "20"
      ]
     },
     "execution_count": 36,
     "metadata": {},
     "output_type": "execute_result"
    }
   ],
   "source": [
    "#del train_df\n",
    "del train_df_clf\n",
    "del valid_df\n",
    "gc.collect()"
   ]
  },
  {
   "cell_type": "code",
   "execution_count": 37,
   "metadata": {
    "execution": {
     "iopub.execute_input": "2020-12-20T07:56:25.524833Z",
     "iopub.status.busy": "2020-12-20T07:56:25.436856Z",
     "iopub.status.idle": "2020-12-20T08:24:41.902125Z",
     "shell.execute_reply": "2020-12-20T08:24:41.902737Z"
    },
    "papermill": {
     "duration": 1696.515757,
     "end_time": "2020-12-20T08:24:41.903111",
     "exception": false,
     "start_time": "2020-12-20T07:56:25.387354",
     "status": "completed"
    },
    "tags": []
   },
   "outputs": [
    {
     "name": "stderr",
     "output_type": "stream",
     "text": [
      "/opt/conda/lib/python3.7/site-packages/lightgbm/basic.py:1295: UserWarning: categorical_feature in Dataset is overridden.\n",
      "New categorical_feature is ['bundle_id', 'part', 'prior_question_had_explanation', 'tags1']\n",
      "  'New categorical_feature is {}'.format(sorted(list(categorical_feature))))\n"
     ]
    },
    {
     "name": "stdout",
     "output_type": "stream",
     "text": [
      "Training until validation scores don't improve for 200 rounds\n",
      "[50]\ttraining's auc: 0.772273\tvalid_1's auc: 0.766537\n",
      "[100]\ttraining's auc: 0.781174\tvalid_1's auc: 0.770325\n",
      "[150]\ttraining's auc: 0.787172\tvalid_1's auc: 0.771548\n",
      "[200]\ttraining's auc: 0.791664\tvalid_1's auc: 0.771949\n",
      "[250]\ttraining's auc: 0.795147\tvalid_1's auc: 0.772051\n",
      "[300]\ttraining's auc: 0.797529\tvalid_1's auc: 0.772125\n",
      "[350]\ttraining's auc: 0.799271\tvalid_1's auc: 0.772189\n",
      "[400]\ttraining's auc: 0.800619\tvalid_1's auc: 0.772147\n",
      "[450]\ttraining's auc: 0.80189\tvalid_1's auc: 0.772076\n",
      "[500]\ttraining's auc: 0.802959\tvalid_1's auc: 0.772042\n",
      "Early stopping, best iteration is:\n",
      "[336]\ttraining's auc: 0.798755\tvalid_1's auc: 0.772216\n"
     ]
    },
    {
     "data": {
      "image/png": "[encoded data removed]",
      "text/plain": [
       "<Figure size 432x288 with 1 Axes>"
      ]
     },
     "metadata": {
      "needs_background": "light"
     },
     "output_type": "display_data"
    }
   ],
   "source": [
    "params = {\n",
    "'num_leaves': 350,\n",
    "'max_bin':700,\n",
    "'min_child_weight': 0.03454472573214212,\n",
    "'feature_fraction': 0.58,\n",
    "'bagging_fraction': 0.58,\n",
    "#'min_data_in_leaf': 106,\n",
    "'objective': 'binary',\n",
    "'max_depth': -1,\n",
    "'learning_rate': 0.05,\n",
    "\"boosting_type\": \"gbdt\",\n",
    "\"bagging_seed\": 11,\n",
    "\"metric\": 'auc',\n",
    "\"verbosity\": -1,\n",
    "'reg_alpha': 0.3899927210061127,\n",
    "'reg_lambda': 0.6485237330340494,\n",
    "'random_state': 47\n",
    "}\n",
    "\n",
    "\n",
    "\n",
    "\n",
    "for i in range(0,num):\n",
    "\n",
    "#     \n",
    "    tr_data = lgb.Dataset(trains[i][features], label=trains[i][target])\n",
    "    va_data = lgb.Dataset(valids[i][features], label=valids[i][target])\n",
    "    \n",
    "#     del train_df_clf\n",
    "#     del valid_df\n",
    "#     gc.collect()\n",
    "\n",
    "    gc.collect()\n",
    "\n",
    "    model = lgb.train(\n",
    "        params, \n",
    "        tr_data,\n",
    "#         train_df[features],\n",
    "#         train_df[target],\n",
    "        num_boost_round=5000,\n",
    "        #valid_sets=[(train_df[features],train_df[target]), (valid_df[features],valid_df[target])], \n",
    "        valid_sets=[tr_data, va_data],\n",
    "        early_stopping_rounds=200,\n",
    "        feature_name=features,\n",
    "        categorical_feature=categorical_columns,\n",
    "        verbose_eval=50\n",
    "    )\n",
    "    clfs.append(model)\n",
    "    #print('auc:', roc_auc_score(valid_df[target], model.predict(valid_df[features])))\n",
    "    #model.save_model(f'model.txt')\n",
    "    lgb.plot_importance(model, importance_type='gain')\n",
    "    plt.show()\n",
    "\n",
    "    del tr_data\n",
    "    del va_data\n",
    "    gc.collect()\n",
    "#    \n",
    "# del trains\n",
    "# del valids\n",
    "# gc.collect()"
   ]
  },
  {
   "cell_type": "code",
   "execution_count": 38,
   "metadata": {
    "execution": {
     "iopub.execute_input": "2020-12-20T08:24:41.992968Z",
     "iopub.status.busy": "2020-12-20T08:24:41.991983Z",
     "iopub.status.idle": "2020-12-20T08:24:42.994787Z",
     "shell.execute_reply": "2020-12-20T08:24:42.995270Z"
    },
    "papermill": {
     "duration": 1.048957,
     "end_time": "2020-12-20T08:24:42.995415",
     "exception": false,
     "start_time": "2020-12-20T08:24:41.946458",
     "status": "completed"
    },
    "tags": []
   },
   "outputs": [
    {
     "data": {
      "text/plain": [
       "0"
      ]
     },
     "execution_count": 38,
     "metadata": {},
     "output_type": "execute_result"
    }
   ],
   "source": [
    "user_sum_dict = user_agg['sum'].astype('int16').to_dict(defaultdict(int))\n",
    "user_count_dict = user_agg['count'].astype('int16').to_dict(defaultdict(int))\n",
    "content_sum_dict = content_agg['sum'].astype('int32').to_dict(defaultdict(int))\n",
    "content_count_dict = content_agg['count'].astype('int32').to_dict(defaultdict(int))\n",
    "\n",
    "del user_agg\n",
    "del content_agg\n",
    "gc.collect()\n",
    "\n",
    "task_container_sum_dict = task_container_agg['sum'].astype('int32').to_dict(defaultdict(int))\n",
    "task_container_count_dict = task_container_agg['count'].astype('int32').to_dict(defaultdict(int))\n",
    "task_container_std_dict = task_container_agg['var'].astype('float16').to_dict(defaultdict(int))\n",
    "\n",
    "explanation_sum_dict = explanation_agg['sum'].astype('int16').to_dict(defaultdict(int))\n",
    "explanation_count_dict = explanation_agg['count'].astype('int16').to_dict(defaultdict(int))\n",
    "del task_container_agg\n",
    "del explanation_agg\n",
    "gc.collect()\n"
   ]
  },
  {
   "cell_type": "code",
   "execution_count": 39,
   "metadata": {
    "execution": {
     "iopub.execute_input": "2020-12-20T08:24:43.088540Z",
     "iopub.status.busy": "2020-12-20T08:24:43.087845Z",
     "iopub.status.idle": "2020-12-20T08:24:43.812868Z",
     "shell.execute_reply": "2020-12-20T08:24:43.812290Z"
    },
    "papermill": {
     "duration": 0.774687,
     "end_time": "2020-12-20T08:24:43.812973",
     "exception": false,
     "start_time": "2020-12-20T08:24:43.038286",
     "status": "completed"
    },
    "tags": []
   },
   "outputs": [
    {
     "data": {
      "text/plain": [
       "20"
      ]
     },
     "execution_count": 39,
     "metadata": {},
     "output_type": "execute_result"
    }
   ],
   "source": [
    "user_lecture_sum_dict = user_lecture_agg['sum'].astype('int16').to_dict(defaultdict(int))\n",
    "user_lecture_count_dict = user_lecture_agg['count'].astype('int16').to_dict(defaultdict(int))\n",
    "\n",
    "lagtime_mean_dict = lagtime_agg['mean'].astype('int32').to_dict(defaultdict(int))\n",
    "#del prior_question_elapsed_time_agg\n",
    "del user_lecture_agg\n",
    "del lagtime_agg\n",
    "gc.collect()"
   ]
  },
  {
   "cell_type": "code",
   "execution_count": 40,
   "metadata": {
    "execution": {
     "iopub.execute_input": "2020-12-20T08:24:43.905363Z",
     "iopub.status.busy": "2020-12-20T08:24:43.904714Z",
     "iopub.status.idle": "2020-12-20T08:24:59.204569Z",
     "shell.execute_reply": "2020-12-20T08:24:59.203849Z"
    },
    "papermill": {
     "duration": 15.349222,
     "end_time": "2020-12-20T08:24:59.204686",
     "exception": false,
     "start_time": "2020-12-20T08:24:43.855464",
     "status": "completed"
    },
    "tags": []
   },
   "outputs": [
    {
     "data": {
      "text/plain": [
       "0"
      ]
     },
     "execution_count": 40,
     "metadata": {},
     "output_type": "execute_result"
    }
   ],
   "source": [
    "attempt_no_agg=attempt_no_agg[attempt_no_agg['sum'] >1]\n",
    "attempt_no_sum_dict = attempt_no_agg['sum'].to_dict(defaultdict(int))\n",
    "\n",
    "del attempt_no_agg\n",
    "gc.collect()"
   ]
  },
  {
   "cell_type": "code",
   "execution_count": 41,
   "metadata": {
    "execution": {
     "iopub.execute_input": "2020-12-20T08:24:59.299192Z",
     "iopub.status.busy": "2020-12-20T08:24:59.298108Z",
     "iopub.status.idle": "2020-12-20T08:25:00.023797Z",
     "shell.execute_reply": "2020-12-20T08:25:00.023233Z"
    },
    "papermill": {
     "duration": 0.775099,
     "end_time": "2020-12-20T08:25:00.023912",
     "exception": false,
     "start_time": "2020-12-20T08:24:59.248813",
     "status": "completed"
    },
    "tags": []
   },
   "outputs": [
    {
     "data": {
      "text/plain": [
       "20"
      ]
     },
     "execution_count": 41,
     "metadata": {},
     "output_type": "execute_result"
    }
   ],
   "source": [
    "max_timestamp_u_dict=max_timestamp_u.set_index('user_id').to_dict()\n",
    "user_prior_question_elapsed_time_dict=user_prior_question_elapsed_time.set_index('user_id').to_dict()\n",
    "#del question_elapsed_time_agg\n",
    "del max_timestamp_u\n",
    "del user_prior_question_elapsed_time\n",
    "gc.collect()"
   ]
  },
  {
   "cell_type": "code",
   "execution_count": 42,
   "metadata": {
    "execution": {
     "iopub.execute_input": "2020-12-20T08:25:00.119217Z",
     "iopub.status.busy": "2020-12-20T08:25:00.118323Z",
     "iopub.status.idle": "2020-12-20T08:25:00.121244Z",
     "shell.execute_reply": "2020-12-20T08:25:00.120714Z"
    },
    "papermill": {
     "duration": 0.053328,
     "end_time": "2020-12-20T08:25:00.121352",
     "exception": false,
     "start_time": "2020-12-20T08:25:00.068024",
     "status": "completed"
    },
    "tags": []
   },
   "outputs": [],
   "source": [
    "def get_max_attempt(user_id,content_id):\n",
    "    k = (user_id,content_id)\n",
    "\n",
    "    if k in attempt_no_sum_dict.keys():\n",
    "        attempt_no_sum_dict[k]+=1\n",
    "        return attempt_no_sum_dict[k]\n",
    "\n",
    "    attempt_no_sum_dict[k] = 1\n",
    "    return attempt_no_sum_dict[k]"
   ]
  },
  {
   "cell_type": "code",
   "execution_count": 43,
   "metadata": {
    "execution": {
     "iopub.execute_input": "2020-12-20T08:25:00.217634Z",
     "iopub.status.busy": "2020-12-20T08:25:00.216841Z",
     "iopub.status.idle": "2020-12-20T08:25:00.219748Z",
     "shell.execute_reply": "2020-12-20T08:25:00.219221Z"
    },
    "papermill": {
     "duration": 0.051459,
     "end_time": "2020-12-20T08:25:00.219857",
     "exception": false,
     "start_time": "2020-12-20T08:25:00.168398",
     "status": "completed"
    },
    "tags": []
   },
   "outputs": [],
   "source": [
    "# model = lgb.Booster(model_file='../input/riiid-lgbm-starter/model.txt')\n",
    "env = riiideducation.make_env()"
   ]
  },
  {
   "cell_type": "code",
   "execution_count": 44,
   "metadata": {
    "execution": {
     "iopub.execute_input": "2020-12-20T08:25:00.312118Z",
     "iopub.status.busy": "2020-12-20T08:25:00.311508Z",
     "iopub.status.idle": "2020-12-20T08:25:00.314192Z",
     "shell.execute_reply": "2020-12-20T08:25:00.313708Z"
    },
    "papermill": {
     "duration": 0.050596,
     "end_time": "2020-12-20T08:25:00.314295",
     "exception": false,
     "start_time": "2020-12-20T08:25:00.263699",
     "status": "completed"
    },
    "tags": []
   },
   "outputs": [],
   "source": [
    "iter_test = env.iter_test()\n",
    "prior_test_df = None"
   ]
  },
  {
   "cell_type": "code",
   "execution_count": 45,
   "metadata": {
    "execution": {
     "iopub.execute_input": "2020-12-20T08:25:00.433199Z",
     "iopub.status.busy": "2020-12-20T08:25:00.420086Z",
     "iopub.status.idle": "2020-12-20T08:25:01.114808Z",
     "shell.execute_reply": "2020-12-20T08:25:01.114230Z"
    },
    "papermill": {
     "duration": 0.756889,
     "end_time": "2020-12-20T08:25:01.114924",
     "exception": false,
     "start_time": "2020-12-20T08:25:00.358035",
     "status": "completed"
    },
    "tags": []
   },
   "outputs": [
    {
     "name": "stdout",
     "output_type": "stream",
     "text": [
      "CPU times: user 1.25 s, sys: 86.9 ms, total: 1.34 s\n",
      "Wall time: 681 ms\n"
     ]
    }
   ],
   "source": [
    "%%time\n",
    "\n",
    "for (test_df, sample_prediction_df) in iter_test:    \n",
    "    if prior_test_df is not None:\n",
    "        prior_test_df[target] = eval(test_df['prior_group_answers_correct'].iloc[0])\n",
    "        prior_test_df = prior_test_df[prior_test_df[target] != -1].reset_index(drop=True)       \n",
    "        prior_test_df['prior_question_had_explanation'].fillna(False, inplace=True)       \n",
    "        prior_test_df.prior_question_had_explanation=prior_test_df.prior_question_had_explanation.astype('int8')\n",
    "    \n",
    "        user_ids = prior_test_df['user_id'].values\n",
    "        content_ids = prior_test_df['content_id'].values\n",
    "        task_container_ids = prior_test_df['task_container_id'].values\n",
    "        prior_question_had_explanations = prior_test_df['prior_question_had_explanation'].values\n",
    "        targets = prior_test_df[target].values\n",
    "       \n",
    "        \n",
    "        \n",
    "        for user_id, content_id,prior_question_had_explanation,task_container_id,answered_correctly in zip(user_ids, content_ids, prior_question_had_explanations,task_container_ids,targets):\n",
    "            user_sum_dict[user_id] += answered_correctly\n",
    "            user_count_dict[user_id] += 1         \n",
    "            explanation_sum_dict[user_id] += prior_question_had_explanation\n",
    "            explanation_count_dict[user_id] += 1\n",
    "            \n",
    "\n",
    "    prior_test_df = test_df.copy()\n",
    "    lecture_test_df = test_df[test_df['content_type_id'] == 1].reset_index(drop=True)\n",
    "    for i, (user_id,content_type_id, content_id) in enumerate(zip(lecture_test_df['user_id'].values,lecture_test_df['content_type_id'].values,lecture_test_df['content_id'].values)):\n",
    "      \n",
    "        user_lecture_sum_dict[user_id] += content_type_id\n",
    "        user_lecture_count_dict[user_id] += 1\n",
    "        #\n",
    "        if(len(user_lecture_stats_part[user_lecture_stats_part.user_id==user_id])==0):\n",
    "            user_lecture_stats_part = user_lecture_stats_part.append([{'user_id':user_id}], ignore_index=True)\n",
    "            user_lecture_stats_part.fillna(0, inplace=True)\n",
    "            user_lecture_stats_part.loc[user_lecture_stats_part.user_id==user_id,part_lectures_columns + types_of_lectures_columns]+=lectures_df[lectures_df.lecture_id==content_id][part_lectures_columns + types_of_lectures_columns].values\n",
    "        else:\n",
    "            user_lecture_stats_part.loc[user_lecture_stats_part.user_id==user_id,part_lectures_columns + types_of_lectures_columns]+=lectures_df[lectures_df.lecture_id==content_id][part_lectures_columns + types_of_lectures_columns].values\n",
    "  \n",
    "        \n",
    "    test_df = test_df[test_df['content_type_id'] == 0].reset_index(drop=True)\n",
    "   \n",
    "    test_df['prior_question_had_explanation'].fillna(False, inplace=True)\n",
    "    test_df.prior_question_had_explanation=test_df.prior_question_had_explanation.astype('int8')\n",
    "    test_df['prior_question_elapsed_time'].fillna(prior_question_elapsed_time_mean, inplace=True)\n",
    "    \n",
    "\n",
    "    user_lecture_sum = np.zeros(len(test_df), dtype=np.int16)\n",
    "    user_lecture_count = np.zeros(len(test_df), dtype=np.int16) \n",
    "    \n",
    "    user_sum = np.zeros(len(test_df), dtype=np.int16)\n",
    "    user_count = np.zeros(len(test_df), dtype=np.int16)\n",
    "    content_sum = np.zeros(len(test_df), dtype=np.int32)\n",
    "    content_count = np.zeros(len(test_df), dtype=np.int32)\n",
    "    task_container_sum = np.zeros(len(test_df), dtype=np.int32)\n",
    "    task_container_count = np.zeros(len(test_df), dtype=np.int32)\n",
    "    task_container_std = np.zeros(len(test_df), dtype=np.float16)\n",
    "    content_task_mean = np.zeros(len(test_df), dtype=np.float16)\n",
    "    explanation_sum = np.zeros(len(test_df), dtype=np.int32)\n",
    "    explanation_count = np.zeros(len(test_df), dtype=np.int32)\n",
    "    delta_prior_question_elapsed_time = np.zeros(len(test_df), dtype=np.int32)\n",
    "\n",
    "    attempt_no_count = np.zeros(len(test_df), dtype=np.int16)\n",
    "    lagtime = np.zeros(len(test_df), dtype=np.int32)\n",
    "    lagtime_mean = np.zeros(len(test_df), dtype=np.int32)\n",
    "   \n",
    "    \n",
    "    for i, (user_id,prior_question_had_explanation,content_type_id,prior_question_elapsed_time,timestamp, content_id,task_container_id) in enumerate(zip(test_df['user_id'].values,test_df['prior_question_had_explanation'].values,test_df['content_type_id'].values,test_df['prior_question_elapsed_time'].values,test_df['timestamp'].values, test_df['content_id'].values, test_df['task_container_id'].values)):\n",
    "         \n",
    "        user_lecture_sum_dict[user_id] += content_type_id\n",
    "        user_lecture_count_dict[user_id] += 1\n",
    "        \n",
    "        user_lecture_sum[i] = user_lecture_sum_dict[user_id]\n",
    "        user_lecture_count[i] = user_lecture_count_dict[user_id]\n",
    "        \n",
    "        user_sum[i] = user_sum_dict[user_id]\n",
    "        user_count[i] = user_count_dict[user_id]\n",
    "        content_sum[i] = content_sum_dict[content_id]\n",
    "        content_count[i] = content_count_dict[content_id]\n",
    "        task_container_sum[i] = task_container_sum_dict[task_container_id]\n",
    "        task_container_count[i] = task_container_count_dict[task_container_id]\n",
    "        task_container_std[i]=task_container_std_dict[task_container_id]\n",
    "      \n",
    "        explanation_sum[i] = explanation_sum_dict[user_id]\n",
    "        explanation_count[i] = explanation_count_dict[user_id]\n",
    "  \n",
    "        if user_id in max_timestamp_u_dict['max_time_stamp'].keys():\n",
    "            lagtime[i]=timestamp-max_timestamp_u_dict['max_time_stamp'][user_id]\n",
    "            max_timestamp_u_dict['max_time_stamp'][user_id]=timestamp\n",
    "            lagtime_mean[i]=(lagtime_mean_dict[user_id]+lagtime[i])/2           \n",
    "        else:\n",
    "            lagtime[i]=0\n",
    "            max_timestamp_u_dict['max_time_stamp'].update({user_id:timestamp})\n",
    "            lagtime_mean_dict.update({user_id:timestamp})\n",
    "            lagtime_mean[i]=(lagtime_mean_dict[user_id]+lagtime[i])/2\n",
    "            \n",
    "        if user_id in user_prior_question_elapsed_time_dict['prior_question_elapsed_time'].keys():            \n",
    "            delta_prior_question_elapsed_time[i]=prior_question_elapsed_time-user_prior_question_elapsed_time_dict['prior_question_elapsed_time'][user_id]\n",
    "            user_prior_question_elapsed_time_dict['prior_question_elapsed_time'][user_id]=prior_question_elapsed_time\n",
    "        else:           \n",
    "            delta_prior_question_elapsed_time[i]=0    \n",
    "            user_prior_question_elapsed_time_dict['prior_question_elapsed_time'].update({user_id:prior_question_elapsed_time})\n",
    "           \n",
    "        \n",
    "        \n",
    "    \n",
    "    #\n",
    "    #test_df = pd.merge(test_df, questions_df, on='content_id', how='left',right_index=True)    \n",
    "    #test_df = pd.concat([test_df.reset_index(drop=True), questions_df.reindex(test_df['content_id'].values).reset_index(drop=True)], axis=1)\n",
    "    test_df=test_df.merge(questions_df.loc[questions_df.index.isin(test_df['content_id'])],\n",
    "                  how='left', on='content_id', right_index=True)\n",
    "    \n",
    "    #test_df = pd.merge(test_df, user_lecture_stats_part, on=['user_id'], how=\"left\",right_index=True)\n",
    "    #test_df = pd.concat([test_df.reset_index(drop=True), user_lecture_stats_part.reindex(test_df['user_id'].values).reset_index(drop=True)], axis=1)\n",
    "#     test_df=test_df.merge(user_lecture_stats_part.loc[user_lecture_stats_part.index.isin(test_df['user_id'])],\n",
    "#                   how='left', on='user_id', right_index=True)\n",
    " \n",
    "    test_df['user_lecture_lv'] = user_lecture_sum / user_lecture_count\n",
    "    test_df['user_lecture_cumsum'] = user_lecture_sum\n",
    "    test_df['user_correctness'] = user_sum / user_count\n",
    "    test_df['user_correct_cumcount'] =user_count\n",
    "    test_df['user_correct_cumsum'] =user_sum\n",
    "    #\n",
    "    test_df['content_correctness'] = content_sum / content_count\n",
    "    test_df['content_count'] = content_count\n",
    "    test_df['content_sum'] = content_sum\n",
    "    \n",
    "    test_df['task_container_correctness'] = task_container_sum / task_container_count\n",
    "    test_df['task_container_sum'] = task_container_sum \n",
    "    test_df['task_container_std'] = task_container_std \n",
    "    #test_df['content_task_mean'] = content_task_mean \n",
    "    \n",
    "    test_df['explanation_mean'] = explanation_sum / explanation_count\n",
    "    test_df['explanation_cumsum'] = explanation_sum \n",
    "    \n",
    "    #\n",
    "    test_df['delta_prior_question_elapsed_time'] = delta_prior_question_elapsed_time \n",
    "    \n",
    "  \n",
    " \n",
    "    test_df[\"attempt_no\"] = test_df[[\"user_id\", \"content_id\"]].apply(lambda row: get_max_attempt(row[\"user_id\"], row[\"content_id\"]), axis=1)\n",
    "    test_df[\"lagtime\"]=lagtime\n",
    "    test_df[\"lagtime_mean\"]=lagtime_mean\n",
    "\n",
    "    test_df['user_correctness'].fillna( 1, inplace=True)\n",
    "    test_df['attempt_no'].fillna(1, inplace=True)\n",
    "    #\n",
    "    test_df.fillna(0, inplace=True)\n",
    "    \n",
    "\n",
    "    test_df['timestamp']=test_df['timestamp']/(1000*3600)\n",
    "    test_df.timestamp=test_df.timestamp.astype('int16')\n",
    "\n",
    "\n",
    "    sub_preds = np.zeros(test_df.shape[0])\n",
    "    for i, model in enumerate(clfs, 1):\n",
    "        test_preds  = model.predict(test_df[features])\n",
    "        sub_preds += test_preds\n",
    "    test_df[target]=sub_preds / len(clfs)\n",
    "    \n",
    "#     if(flag_lgbm):\n",
    "#         test_df[target] = model.predict(test_df[features])\n",
    "#     else:\n",
    "#         test_df[target] = model.predict(test_df[features].values)\n",
    "    env.predict(test_df[['row_id', target]])"
   ]
  },
  {
   "cell_type": "code",
   "execution_count": 46,
   "metadata": {
    "execution": {
     "iopub.execute_input": "2020-12-20T08:25:01.212040Z",
     "iopub.status.busy": "2020-12-20T08:25:01.211031Z",
     "iopub.status.idle": "2020-12-20T08:25:01.214428Z",
     "shell.execute_reply": "2020-12-20T08:25:01.215024Z"
    },
    "papermill": {
     "duration": 0.054969,
     "end_time": "2020-12-20T08:25:01.215146",
     "exception": false,
     "start_time": "2020-12-20T08:25:01.160177",
     "status": "completed"
    },
    "tags": []
   },
   "outputs": [
    {
     "data": {
      "text/plain": [
       "Index(['row_id', 'timestamp', 'user_id', 'content_id', 'content_type_id',\n",
       "       'task_container_id', 'prior_question_elapsed_time',\n",
       "       'prior_question_had_explanation', 'prior_group_answers_correct',\n",
       "       'prior_group_responses', 'bundle_id', 'part', 'part_bundle_id', 'tags1',\n",
       "       'tags2', 'tags3', 'tags4', 'tags5', 'tags6', 'content_correctness_std',\n",
       "       'part_correctness_mean', 'part_correctness_std', 'bundle_correctness',\n",
       "       'tags1_correctness_mean', 'tags1_correctness_std', 'user_lecture_lv',\n",
       "       'user_lecture_cumsum', 'user_correctness', 'user_correct_cumcount',\n",
       "       'user_correct_cumsum', 'content_correctness', 'content_count',\n",
       "       'content_sum', 'task_container_correctness', 'task_container_sum',\n",
       "       'task_container_std', 'explanation_mean', 'explanation_cumsum',\n",
       "       'delta_prior_question_elapsed_time', 'attempt_no', 'lagtime',\n",
       "       'lagtime_mean', 'answered_correctly'],\n",
       "      dtype='object')"
      ]
     },
     "execution_count": 46,
     "metadata": {},
     "output_type": "execute_result"
    }
   ],
   "source": [
    "test_df.columns"
   ]
  },
  {
   "cell_type": "code",
   "execution_count": 47,
   "metadata": {
    "execution": {
     "iopub.execute_input": "2020-12-20T08:25:01.310072Z",
     "iopub.status.busy": "2020-12-20T08:25:01.309413Z",
     "iopub.status.idle": "2020-12-20T08:25:01.317570Z",
     "shell.execute_reply": "2020-12-20T08:25:01.318103Z"
    },
    "papermill": {
     "duration": 0.057325,
     "end_time": "2020-12-20T08:25:01.318236",
     "exception": false,
     "start_time": "2020-12-20T08:25:01.260911",
     "status": "completed"
    },
    "tags": []
   },
   "outputs": [],
   "source": [
    "sub = pd.DataFrame()\n",
    "sub['row_id'] = test_df['row_id']\n",
    "sub['answered_correctly'] = test_df['answered_correctly']\n",
    "\n",
    "sub.to_csv('submission.csv', index=False)"
   ]
  },
  {
   "cell_type": "code",
   "execution_count": null,
   "metadata": {
    "papermill": {
     "duration": 0.045633,
     "end_time": "2020-12-20T08:25:01.409084",
     "exception": false,
     "start_time": "2020-12-20T08:25:01.363451",
     "status": "completed"
    },
    "tags": []
   },
   "outputs": [],
   "source": []
  }
 ],
 "metadata": {
  "kernelspec": {
   "display_name": "Python 3",
   "language": "python",
   "name": "python3"
  },
  "language_info": {
   "codemirror_mode": {
    "name": "ipython",
    "version": 3
   },
   "file_extension": ".py",
   "mimetype": "text/x-python",
   "name": "python",
   "nbconvert_exporter": "python",
   "pygments_lexer": "ipython3",
   "version": "3.7.6"
  },
  "papermill": {
   "duration": 2115.062278,
   "end_time": "2020-12-20T08:25:01.664826",
   "environment_variables": {},
   "exception": null,
   "input_path": "__notebook__.ipynb",
   "output_path": "__notebook__.ipynb",
   "parameters": {},
   "start_time": "2020-12-20T07:49:46.602548",
   "version": "2.1.0"
  }
 },
 "nbformat": 4,
 "nbformat_minor": 4
}
